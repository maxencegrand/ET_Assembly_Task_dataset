{
 "cells": [
  {
   "cell_type": "code",
   "execution_count": null,
   "id": "290db14c",
   "metadata": {},
   "outputs": [],
   "source": [
    "import csv\n",
    "import pandas as pd\n",
    "\n",
    "mobile_users = "
   ]
  },
  {
   "cell_type": "markdown",
   "id": "a4eb640c",
   "metadata": {},
   "source": [
    "# A Stationnary vs Mobile Eye Trackers Comparison for a Real-World Human-Robot Collaborative Assembly Task\n",
    "\n",
    "## Users\n",
    "\n",
    "Blablabla les utilisateurs\n",
    "\n",
    "### Users with Glasses"
   ]
  },
  {
   "cell_type": "code",
   "execution_count": null,
   "id": "9a9a72c3",
   "metadata": {},
   "outputs": [],
   "source": []
  }
 ],
 "metadata": {
  "kernelspec": {
   "display_name": "Python 3 (ipykernel)",
   "language": "python",
   "name": "python3"
  },
  "language_info": {
   "codemirror_mode": {
    "name": "ipython",
    "version": 3
   },
   "file_extension": ".py",
   "mimetype": "text/x-python",
   "name": "python",
   "nbconvert_exporter": "python",
   "pygments_lexer": "ipython3",
   "version": "3.10.11"
  }
 },
 "nbformat": 4,
 "nbformat_minor": 5
}
