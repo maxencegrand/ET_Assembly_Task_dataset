{
 "cells": [
  {
   "cell_type": "code",
   "execution_count": 1,
   "id": "290db14c",
   "metadata": {
    "scrolled": true
   },
   "outputs": [],
   "source": [
    "import csv\n",
    "import pandas as pd\n",
    "from utils.user_group import Mobile, Stationary\n",
    "import matplotlib.pyplot as plt\n",
    "import numpy as np \n",
    "\n",
    "mobile_users = Mobile()\n",
    "stationary_users = Stationary()"
   ]
  },
  {
   "cell_type": "markdown",
   "id": "a4eb640c",
   "metadata": {},
   "source": [
    "# A Stationnary vs Mobile Eye Trackers Comparison for Real-World Human-Robot Collaborative Assembly Tasks\n",
    "\n",
    "## I- Participants\n",
    "\n",
    "Blablabla les utilisateurs\n",
    "\n",
    "### I.1 - Participants Wearing glasses/contact lenses"
   ]
  },
  {
   "cell_type": "code",
   "execution_count": 2,
   "id": "9a9a72c3",
   "metadata": {},
   "outputs": [
    {
     "data": {
      "image/png": "[encoded data removed]",
      "text/plain": [
       "<Figure size 432x288 with 1 Axes>"
      ]
     },
     "metadata": {
      "needs_background": "light"
     },
     "output_type": "display_data"
    }
   ],
   "source": [
    "sitting = [0,0]\n",
    "standing = [0,0]\n",
    "\n",
    "for id in mobile_users.get_id_list():\n",
    "    user = mobile_users.get_user(id)\n",
    "    if(user.is_wearing_glasses()):\n",
    "        if(user.position == 'sitting'):\n",
    "            sitting[0] += 1\n",
    "        else:\n",
    "            standing[0] += 1\n",
    "\n",
    "for id in stationary_users.get_id_list():\n",
    "    user = stationary_users.get_user(id)\n",
    "    if(user.is_wearing_glasses()):\n",
    "        if(user.position == 'sitting'):\n",
    "            sitting[1] += 1\n",
    "        else:\n",
    "            standing[1] += 1\n",
    "\n",
    "fig, ax = plt.subplots()\n",
    "lab = [\"Sitting\", \"Standing\"]\n",
    "r = np.arange(2)\n",
    "bar_width = .33\n",
    "positions_sitting = range(len(lab))\n",
    "positions_standing = [pos + bar_width for pos in positions_sitting]\n",
    "ax.bar(r, [sitting[1], standing[1]], width=bar_width, color='red', label=\"Stationnary\")\n",
    "ax.bar(r+bar_width, [sitting[0], standing[0]], width=bar_width, color='blue', label=\"Mobile\")\n",
    "ax.set_xticks(r + bar_width/2,lab)\n",
    "ax.set_xlabel('Position')\n",
    "ax.set_ylabel('#Wear Glasses')\n",
    "ax.set_title('Number of participants wearing glasses or contact lenses')\n",
    "plt.show()\n",
    "fig.savefig(\"../data_analysis/glasses.png\")\n",
    "plt.close()"
   ]
  },
  {
   "cell_type": "markdown",
   "id": "f3ba69d1",
   "metadata": {
    "scrolled": true
   },
   "source": [
    "### I.2 Calibration Issues\n",
    "\n",
    "* **No Data**: Impossible to calibrate trackers. No data have been recorded\n",
    "* **Severe Issue**: The trackers could be calibrated with severe calibration issues. The data was recorded but cannot be used\n",
    "* **Slight Issue**: The trackers could be calibrated despite slight issues during calibration. The data has been recorded and can be used\n",
    "* **No Issue**: No issue during the calibration"
   ]
  },
  {
   "cell_type": "code",
   "execution_count": 3,
   "id": "6cd492be",
   "metadata": {},
   "outputs": [
    {
     "data": {
      "image/png": "[encoded data removed]",
      "text/plain": [
       "<Figure size 864x288 with 2 Axes>"
      ]
     },
     "metadata": {
      "needs_background": "light"
     },
     "output_type": "display_data"
    }
   ],
   "source": [
    "calibration = {0:'No Data', 1:'Severe', 2:'Slight', 3:'No Issue'}\n",
    "\n",
    "sitting = {\n",
    "    'Pupil':{'No Data':0, 'Severe':0, 'Slight':0, 'No Issue':0},\n",
    "    'Fovio':{'No Data':0, 'Severe':0, 'Slight':0, 'No Issue':0},\n",
    "    'Tobii':{'No Data':0, 'Severe':0, 'Slight':0, 'No Issue':0}\n",
    "}\n",
    "standing = {\n",
    "    'Pupil':{'No Data':0, 'Severe':0, 'Slight':0, 'No Issue':0},\n",
    "    'Fovio':{'No Data':0, 'Severe':0, 'Slight':0, 'No Issue':0},\n",
    "    'Tobii':{'No Data':0, 'Severe':0, 'Slight':0, 'No Issue':0}\n",
    "}\n",
    "\n",
    "\n",
    "for id in mobile_users.get_id_list():\n",
    "    user = mobile_users.get_user(id)\n",
    "    if(user.position == 'sitting'):\n",
    "        sitting['Pupil'][calibration[user.pupil]]+=1\n",
    "    else:\n",
    "        standing['Pupil'][calibration[user.pupil]]+=1\n",
    "\n",
    "for id in stationary_users.get_id_list():\n",
    "    user = stationary_users.get_user(id)\n",
    "    if(user.position == 'sitting'):\n",
    "        sitting['Fovio'][calibration[user.fovio]]+=1\n",
    "        sitting['Tobii'][calibration[user.tobii]]+=1\n",
    "    else:\n",
    "        standing['Fovio'][calibration[user.fovio]]+=1\n",
    "        standing['Tobii'][calibration[user.tobii]]+=1\n",
    "            \n",
    "categories = sitting['Pupil'].keys()\n",
    "r = np.arange(4)\n",
    "bar_width = .25\n",
    "fig, (ax1, ax2) = plt.subplots(1, 2, figsize=(12, 4))\n",
    "ax1.bar(r, [sitting['Pupil'][x] for x in categories], width=bar_width, color='blue', label=\"Pupil\")\n",
    "ax1.bar(r+bar_width, [sitting['Fovio'][x] for x in categories], width=bar_width, color='red', label=\"Fovio\")\n",
    "ax1.bar(r+bar_width*2, [sitting['Tobii'][x] for x in categories], width=bar_width, color='orange', label=\"Tobii\")\n",
    "ax1.set_xticks(r + bar_width/2,categories)\n",
    "ax1.set_xlabel('Calibration Quality')\n",
    "ax1.set_ylabel('# Participants')\n",
    "ax1.set_title(\"Sitting Participants\")\n",
    "ax1.legend()\n",
    "\n",
    "ax2.bar(r, [standing['Pupil'][x] for x in categories], width=bar_width, color='blue', label=\"Pupil\")\n",
    "ax2.bar(r+bar_width, [standing['Fovio'][x] for x in categories], width=bar_width, color='red', label=\"Fovio\")\n",
    "ax2.bar(r+bar_width*2, [standing['Tobii'][x] for x in categories], width=bar_width, color='orange', label=\"Tobii\")\n",
    "ax2.set_xticks(r + bar_width/2,categories)\n",
    "ax2.set_xlabel('Calibration Quality')\n",
    "ax2.set_ylabel('# Participants')\n",
    "ax2.set_title(\"Standing Participants\")\n",
    "ax2.legend()\n",
    "plt.show()\n",
    "plt.tight_layout()\n",
    "fig.savefig('../data_analysis/calibration.png')\n",
    "plt.close()"
   ]
  },
  {
   "cell_type": "markdown",
   "id": "2fb3de6f",
   "metadata": {},
   "source": [
    "### I.3 Figure Recording Issues"
   ]
  },
  {
   "cell_type": "code",
   "execution_count": 4,
   "id": "2f65d698",
   "metadata": {},
   "outputs": [
    {
     "data": {
      "image/png": "[encoded data removed]",
      "text/plain": [
       "<Figure size 864x288 with 2 Axes>"
      ]
     },
     "metadata": {
      "needs_background": "light"
     },
     "output_type": "display_data"
    }
   ],
   "source": [
    "sitting = {\n",
    "    'Mobile':{'car':0, 'tb':0, 'house':0, 'sc':0, \"tc\":0, 'tsb':0},\n",
    "    'Stationnary':{'car':0, 'tb':0, 'house':0, 'sc':0, \"tc\":0, 'tsb':0}\n",
    "}\n",
    "standing = {\n",
    "    'Mobile':{'car':0, 'tb':0, 'house':0, 'sc':0, \"tc\":0, 'tsb':0},\n",
    "    'Stationnary':{'car':0, 'tb':0, 'house':0, 'sc':0, \"tc\":0, 'tsb':0}\n",
    "}\n",
    "\n",
    "for id in mobile_users.get_id_list():\n",
    "    user = mobile_users.get_user(id)\n",
    "    if(not user.has_data()):\n",
    "        continue\n",
    "    if(user.position == 'sitting'):\n",
    "        for figure in sitting['Mobile'].keys():\n",
    "            if(not user.has_figure_data(figure)):\n",
    "                sitting['Mobile'][figure] += 1\n",
    "    else:\n",
    "        for figure in standing['Mobile'].keys():\n",
    "            if(not user.has_figure_data(figure)):\n",
    "                standing['Mobile'][figure] += 1\n",
    "\n",
    "for id in stationary_users.get_id_list():\n",
    "    user = stationary_users.get_user(id)\n",
    "    if(not user.has_data()):\n",
    "        continue\n",
    "    if(user.position == 'sitting'):\n",
    "        for figure in sitting['Stationnary'].keys():\n",
    "            if(not user.has_figure_data(figure)):\n",
    "                sitting['Stationnary'][figure] += 1\n",
    "    else:\n",
    "        for figure in standing['Stationnary'].keys():\n",
    "            if(not user.has_figure_data(figure)):\n",
    "                standing['Stationnary'][figure] += 1\n",
    "                \n",
    "categories = sitting['Mobile'].keys()\n",
    "r = np.arange(6)\n",
    "bar_width = .33\n",
    "fig, (ax1, ax2) = plt.subplots(1, 2, figsize=(12, 4))\n",
    "ax1.bar(r, [sitting['Mobile'][x] for x in categories], width=bar_width, color='blue', label=\"Mobile\")\n",
    "ax1.bar(r+bar_width, [sitting['Stationnary'][x] for x in categories], width=bar_width, color='red', label=\"Stationnary\")\n",
    "ax1.set_xticks(r + bar_width/2,categories)\n",
    "ax1.set_xlabel('Figure')\n",
    "ax1.set_ylabel('# Participants')\n",
    "ax1.set_title(\"Sitting Participants\")\n",
    "ax1.legend()\n",
    "\n",
    "ax2.bar(r, [standing['Mobile'][x] for x in categories], width=bar_width, color='blue', label=\"Mobile\")\n",
    "ax2.bar(r+bar_width, [standing['Stationnary'][x] for x in categories], width=bar_width, color='red', label=\"Stationnary\")\n",
    "ax2.set_xticks(r + bar_width/2,categories)\n",
    "ax2.set_xlabel('Figure')\n",
    "ax2.set_ylabel('# Participants')\n",
    "ax2.set_title(\"Standing Participants\")\n",
    "ax2.legend()\n",
    "plt.show()\n",
    "plt.tight_layout()\n",
    "fig.savefig('../data_analysis/figure_recording_issues.png')\n",
    "plt.close()"
   ]
  },
  {
   "cell_type": "markdown",
   "id": "2269ce30",
   "metadata": {},
   "source": [
    "### I.4 Specific Issue for Mobile Participants\n",
    "\n",
    "* Eyes Used\n",
    "* Screen"
   ]
  },
  {
   "cell_type": "code",
   "execution_count": null,
   "id": "d9f6a48d",
   "metadata": {},
   "outputs": [],
   "source": []
  },
  {
   "cell_type": "markdown",
   "id": "fbb3109e",
   "metadata": {},
   "source": [
    "## II Event Annotation\n",
    "\n",
    "blablabla les annotations\n",
    "\n",
    "### II.1 Action Event\n",
    "\n",
    "* **Grasp** The moment when the participant's hand comes into contact with the block in order to pick it up.\n",
    "* **Release** The moment when the participant's hand releases the block with no intention to move it again.\n",
    "\n",
    "### II.2 Action Event Annotation\n",
    "\n",
    "* **Correct** Grasp the correct block or release block in the correct position\n",
    "* **Bad ID**  The ID of the grasped and/or released block was incorrect. However, the shape and color of the block were correct.\n",
    "* **Error** Grasp a wrong block or release a possibly correct block in a wriing position\n",
    "* **Correction** Grasp a block released in a wrong position or release a wrong block grasped previously\n"
   ]
  },
  {
   "cell_type": "code",
   "execution_count": null,
   "id": "3e492825",
   "metadata": {},
   "outputs": [],
   "source": []
  },
  {
   "cell_type": "markdown",
   "id": "f7adc59c",
   "metadata": {},
   "source": [
    "### II.3 Instruction Event Annotation\n",
    "\n",
    "* **Start** Assembly starts\n",
    "* **Next** The participant press the next button\n",
    "* **Previous** The participant press the previous button\n",
    "* **No Next Error** The participant grasp a block before press next button\n",
    "* **Extra Next Error** The participant press the next button before release the block\n",
    "* **End** Assembly ends"
   ]
  }
 ],
 "metadata": {
  "kernelspec": {
   "display_name": "Python 3",
   "language": "python",
   "name": "python3"
  },
  "language_info": {
   "codemirror_mode": {
    "name": "ipython",
    "version": 3
   },
   "file_extension": ".py",
   "mimetype": "text/x-python",
   "name": "python",
   "nbconvert_exporter": "python",
   "pygments_lexer": "ipython3",
   "version": "3.8.10"
  }
 },
 "nbformat": 4,
 "nbformat_minor": 5
}
